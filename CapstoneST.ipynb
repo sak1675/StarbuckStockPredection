{
 "cells": [
  {
   "cell_type": "markdown",
   "id": "558c73fb-e8b9-4b75-ad39-54bce815bd0a",
   "metadata": {},
   "source": [
    "# Reading the DataSet"
   ]
  },
  {
   "cell_type": "code",
   "execution_count": 1,
   "id": "dd26ac81-cba0-416c-b7c5-0654789c2cad",
   "metadata": {},
   "outputs": [],
   "source": [
    "import pandas as pd\n",
    "import numpy as np\n",
    "import matplotlib.pyplot as plt\n",
    "import seaborn as sns\n",
    "from sklearn.model_selection import train_test_split\n",
    "from sklearn.linear_model import LinearRegression\n",
    "from sklearn.metrics import mean_squared_error"
   ]
  },
  {
   "cell_type": "code",
   "execution_count": 2,
   "id": "afc40c62-c14f-4710-b931-912c78cece26",
   "metadata": {
    "tags": []
   },
   "outputs": [],
   "source": [
    "data = pd.read_csv(\"SBUX.US_D1.csv\")"
   ]
  },
  {
   "cell_type": "code",
   "execution_count": 3,
   "id": "d515621f-fd4a-454d-b184-5e5d5fefc371",
   "metadata": {
    "tags": []
   },
   "outputs": [
    {
     "data": {
      "text/plain": [
       "(6639, 6)"
      ]
     },
     "execution_count": 3,
     "metadata": {},
     "output_type": "execute_result"
    }
   ],
   "source": [
    "data.shape"
   ]
  },
  {
   "cell_type": "code",
   "execution_count": 4,
   "id": "283fdad2-270f-46e7-95b7-b23dbbb0f716",
   "metadata": {
    "tags": []
   },
   "outputs": [
    {
     "name": "stdout",
     "output_type": "stream",
     "text": [
      "Shape After deleting duplicate values: (6639, 6)\n"
     ]
    }
   ],
   "source": [
    "data=data.drop_duplicates()\n",
    "print('Shape After deleting duplicate values:', data.shape)"
   ]
  },
  {
   "cell_type": "code",
   "execution_count": 5,
   "id": "081a722e-303e-4ef9-badc-e94a1f7294d8",
   "metadata": {
    "tags": []
   },
   "outputs": [
    {
     "data": {
      "text/html": [
       "<div>\n",
       "<style scoped>\n",
       "    .dataframe tbody tr th:only-of-type {\n",
       "        vertical-align: middle;\n",
       "    }\n",
       "\n",
       "    .dataframe tbody tr th {\n",
       "        vertical-align: top;\n",
       "    }\n",
       "\n",
       "    .dataframe thead th {\n",
       "        text-align: right;\n",
       "    }\n",
       "</style>\n",
       "<table border=\"1\" class=\"dataframe\">\n",
       "  <thead>\n",
       "    <tr style=\"text-align: right;\">\n",
       "      <th></th>\n",
       "      <th>datetime</th>\n",
       "      <th>open</th>\n",
       "      <th>high</th>\n",
       "      <th>low</th>\n",
       "      <th>close</th>\n",
       "      <th>volume</th>\n",
       "    </tr>\n",
       "  </thead>\n",
       "  <tbody>\n",
       "    <tr>\n",
       "      <th>0</th>\n",
       "      <td>1998-01-02</td>\n",
       "      <td>38.38</td>\n",
       "      <td>38.63</td>\n",
       "      <td>37.31</td>\n",
       "      <td>37.50</td>\n",
       "      <td>594000</td>\n",
       "    </tr>\n",
       "    <tr>\n",
       "      <th>1</th>\n",
       "      <td>1998-01-05</td>\n",
       "      <td>37.63</td>\n",
       "      <td>37.78</td>\n",
       "      <td>36.75</td>\n",
       "      <td>37.13</td>\n",
       "      <td>644000</td>\n",
       "    </tr>\n",
       "    <tr>\n",
       "      <th>2</th>\n",
       "      <td>1998-01-06</td>\n",
       "      <td>37.13</td>\n",
       "      <td>37.38</td>\n",
       "      <td>35.56</td>\n",
       "      <td>35.63</td>\n",
       "      <td>1183300</td>\n",
       "    </tr>\n",
       "    <tr>\n",
       "      <th>3</th>\n",
       "      <td>1998-01-07</td>\n",
       "      <td>35.50</td>\n",
       "      <td>36.44</td>\n",
       "      <td>34.25</td>\n",
       "      <td>34.69</td>\n",
       "      <td>2039005</td>\n",
       "    </tr>\n",
       "    <tr>\n",
       "      <th>4</th>\n",
       "      <td>1998-01-08</td>\n",
       "      <td>34.56</td>\n",
       "      <td>36.01</td>\n",
       "      <td>34.00</td>\n",
       "      <td>35.76</td>\n",
       "      <td>1638105</td>\n",
       "    </tr>\n",
       "    <tr>\n",
       "      <th>5</th>\n",
       "      <td>1998-01-09</td>\n",
       "      <td>35.75</td>\n",
       "      <td>36.01</td>\n",
       "      <td>34.37</td>\n",
       "      <td>35.13</td>\n",
       "      <td>713703</td>\n",
       "    </tr>\n",
       "    <tr>\n",
       "      <th>6</th>\n",
       "      <td>1998-01-12</td>\n",
       "      <td>34.50</td>\n",
       "      <td>35.37</td>\n",
       "      <td>34.25</td>\n",
       "      <td>35.19</td>\n",
       "      <td>855603</td>\n",
       "    </tr>\n",
       "    <tr>\n",
       "      <th>7</th>\n",
       "      <td>1998-01-13</td>\n",
       "      <td>35.38</td>\n",
       "      <td>35.63</td>\n",
       "      <td>35.00</td>\n",
       "      <td>35.56</td>\n",
       "      <td>460200</td>\n",
       "    </tr>\n",
       "    <tr>\n",
       "      <th>8</th>\n",
       "      <td>1998-01-14</td>\n",
       "      <td>35.63</td>\n",
       "      <td>35.63</td>\n",
       "      <td>35.07</td>\n",
       "      <td>35.19</td>\n",
       "      <td>336200</td>\n",
       "    </tr>\n",
       "    <tr>\n",
       "      <th>9</th>\n",
       "      <td>1998-01-15</td>\n",
       "      <td>35.13</td>\n",
       "      <td>35.26</td>\n",
       "      <td>33.75</td>\n",
       "      <td>34.00</td>\n",
       "      <td>742700</td>\n",
       "    </tr>\n",
       "  </tbody>\n",
       "</table>\n",
       "</div>"
      ],
      "text/plain": [
       "     datetime   open   high    low  close   volume\n",
       "0  1998-01-02  38.38  38.63  37.31  37.50   594000\n",
       "1  1998-01-05  37.63  37.78  36.75  37.13   644000\n",
       "2  1998-01-06  37.13  37.38  35.56  35.63  1183300\n",
       "3  1998-01-07  35.50  36.44  34.25  34.69  2039005\n",
       "4  1998-01-08  34.56  36.01  34.00  35.76  1638105\n",
       "5  1998-01-09  35.75  36.01  34.37  35.13   713703\n",
       "6  1998-01-12  34.50  35.37  34.25  35.19   855603\n",
       "7  1998-01-13  35.38  35.63  35.00  35.56   460200\n",
       "8  1998-01-14  35.63  35.63  35.07  35.19   336200\n",
       "9  1998-01-15  35.13  35.26  33.75  34.00   742700"
      ]
     },
     "execution_count": 5,
     "metadata": {},
     "output_type": "execute_result"
    }
   ],
   "source": [
    "# Printing sample data\n",
    "# Start observing the Quantitative/Categorical/Qualitative variables\n",
    "data.head(10)"
   ]
  },
  {
   "cell_type": "markdown",
   "id": "f65d18c3-0bba-4a9c-b7b6-31a21dc2f416",
   "metadata": {},
   "source": [
    "# Problem Statement Definition\n",
    "\n",
    "To develop a prediction model based on previous stock price data and potentially additional relevant attributes that can accurately estimate Starbucks' future stock price."
   ]
  },
  {
   "cell_type": "code",
   "execution_count": 6,
   "id": "025a3add-c2d0-4e5b-97be-d5d9fd496501",
   "metadata": {
    "tags": []
   },
   "outputs": [],
   "source": [
    "target_variable = 'stock_price'"
   ]
  },
  {
   "cell_type": "code",
   "execution_count": 7,
   "id": "8d602520-4265-4520-9e2c-f8df33acaf95",
   "metadata": {
    "tags": []
   },
   "outputs": [
    {
     "data": {
      "text/plain": [
       "<Axes: >"
      ]
     },
     "execution_count": 7,
     "metadata": {},
     "output_type": "execute_result"
    },
    {
     "data": {
      "image/png": "[encoded data removed]",
      "text/plain": [
       "<Figure size 640x480 with 1 Axes>"
      ]
     },
     "metadata": {},
     "output_type": "display_data"
    }
   ],
   "source": [
    "%matplotlib inline\n",
    "# Creating histogram as the Target variable is Continuous\n",
    "# This will help us to understand the distribution of the MEDV values\n",
    "data['close'].hist()"
   ]
  },
  {
   "cell_type": "code",
   "execution_count": 8,
   "id": "f79b87f6-6fd3-4265-9e3a-8cdfb24110f8",
   "metadata": {},
   "outputs": [
    {
     "data": {
      "text/html": [
       "<div>\n",
       "<style scoped>\n",
       "    .dataframe tbody tr th:only-of-type {\n",
       "        vertical-align: middle;\n",
       "    }\n",
       "\n",
       "    .dataframe tbody tr th {\n",
       "        vertical-align: top;\n",
       "    }\n",
       "\n",
       "    .dataframe thead th {\n",
       "        text-align: right;\n",
       "    }\n",
       "</style>\n",
       "<table border=\"1\" class=\"dataframe\">\n",
       "  <thead>\n",
       "    <tr style=\"text-align: right;\">\n",
       "      <th></th>\n",
       "      <th>datetime</th>\n",
       "      <th>open</th>\n",
       "      <th>high</th>\n",
       "      <th>low</th>\n",
       "      <th>close</th>\n",
       "      <th>volume</th>\n",
       "    </tr>\n",
       "  </thead>\n",
       "  <tbody>\n",
       "    <tr>\n",
       "      <th>0</th>\n",
       "      <td>1998-01-02</td>\n",
       "      <td>38.38</td>\n",
       "      <td>38.63</td>\n",
       "      <td>37.31</td>\n",
       "      <td>37.50</td>\n",
       "      <td>594000</td>\n",
       "    </tr>\n",
       "    <tr>\n",
       "      <th>1</th>\n",
       "      <td>1998-01-05</td>\n",
       "      <td>37.63</td>\n",
       "      <td>37.78</td>\n",
       "      <td>36.75</td>\n",
       "      <td>37.13</td>\n",
       "      <td>644000</td>\n",
       "    </tr>\n",
       "    <tr>\n",
       "      <th>2</th>\n",
       "      <td>1998-01-06</td>\n",
       "      <td>37.13</td>\n",
       "      <td>37.38</td>\n",
       "      <td>35.56</td>\n",
       "      <td>35.63</td>\n",
       "      <td>1183300</td>\n",
       "    </tr>\n",
       "    <tr>\n",
       "      <th>3</th>\n",
       "      <td>1998-01-07</td>\n",
       "      <td>35.50</td>\n",
       "      <td>36.44</td>\n",
       "      <td>34.25</td>\n",
       "      <td>34.69</td>\n",
       "      <td>2039005</td>\n",
       "    </tr>\n",
       "    <tr>\n",
       "      <th>4</th>\n",
       "      <td>1998-01-08</td>\n",
       "      <td>34.56</td>\n",
       "      <td>36.01</td>\n",
       "      <td>34.00</td>\n",
       "      <td>35.76</td>\n",
       "      <td>1638105</td>\n",
       "    </tr>\n",
       "  </tbody>\n",
       "</table>\n",
       "</div>"
      ],
      "text/plain": [
       "     datetime   open   high    low  close   volume\n",
       "0  1998-01-02  38.38  38.63  37.31  37.50   594000\n",
       "1  1998-01-05  37.63  37.78  36.75  37.13   644000\n",
       "2  1998-01-06  37.13  37.38  35.56  35.63  1183300\n",
       "3  1998-01-07  35.50  36.44  34.25  34.69  2039005\n",
       "4  1998-01-08  34.56  36.01  34.00  35.76  1638105"
      ]
     },
     "execution_count": 8,
     "metadata": {},
     "output_type": "execute_result"
    }
   ],
   "source": [
    "data.head()  # Display first few rows of the dataset"
   ]
  },
  {
   "cell_type": "code",
   "execution_count": 9,
   "id": "fd66d5d3-b701-4e1b-a19c-23aea8379ce5",
   "metadata": {
    "tags": []
   },
   "outputs": [
    {
     "name": "stdout",
     "output_type": "stream",
     "text": [
      "<class 'pandas.core.frame.DataFrame'>\n",
      "Int64Index: 6639 entries, 0 to 6638\n",
      "Data columns (total 6 columns):\n",
      " #   Column    Non-Null Count  Dtype  \n",
      "---  ------    --------------  -----  \n",
      " 0   datetime  6639 non-null   object \n",
      " 1   open      6639 non-null   float64\n",
      " 2   high      6639 non-null   float64\n",
      " 3   low       6639 non-null   float64\n",
      " 4   close     6639 non-null   float64\n",
      " 5   volume    6639 non-null   int64  \n",
      "dtypes: float64(4), int64(1), object(1)\n",
      "memory usage: 363.1+ KB\n"
     ]
    }
   ],
   "source": [
    "data.info()"
   ]
  },
  {
   "cell_type": "code",
   "execution_count": 10,
   "id": "06405809-241c-483c-b306-5a77acad7ba4",
   "metadata": {
    "tags": []
   },
   "outputs": [
    {
     "data": {
      "text/html": [
       "<div>\n",
       "<style scoped>\n",
       "    .dataframe tbody tr th:only-of-type {\n",
       "        vertical-align: middle;\n",
       "    }\n",
       "\n",
       "    .dataframe tbody tr th {\n",
       "        vertical-align: top;\n",
       "    }\n",
       "\n",
       "    .dataframe thead th {\n",
       "        text-align: right;\n",
       "    }\n",
       "</style>\n",
       "<table border=\"1\" class=\"dataframe\">\n",
       "  <thead>\n",
       "    <tr style=\"text-align: right;\">\n",
       "      <th></th>\n",
       "      <th>open</th>\n",
       "      <th>high</th>\n",
       "      <th>low</th>\n",
       "      <th>close</th>\n",
       "      <th>volume</th>\n",
       "    </tr>\n",
       "  </thead>\n",
       "  <tbody>\n",
       "    <tr>\n",
       "      <th>count</th>\n",
       "      <td>6639.000000</td>\n",
       "      <td>6639.000000</td>\n",
       "      <td>6639.000000</td>\n",
       "      <td>6639.000000</td>\n",
       "      <td>6.639000e+03</td>\n",
       "    </tr>\n",
       "    <tr>\n",
       "      <th>mean</th>\n",
       "      <td>52.025905</td>\n",
       "      <td>52.605072</td>\n",
       "      <td>51.438399</td>\n",
       "      <td>52.034272</td>\n",
       "      <td>5.793768e+06</td>\n",
       "    </tr>\n",
       "    <tr>\n",
       "      <th>std</th>\n",
       "      <td>27.161870</td>\n",
       "      <td>27.312972</td>\n",
       "      <td>26.994025</td>\n",
       "      <td>27.155434</td>\n",
       "      <td>4.658699e+06</td>\n",
       "    </tr>\n",
       "    <tr>\n",
       "      <th>min</th>\n",
       "      <td>7.520000</td>\n",
       "      <td>7.900000</td>\n",
       "      <td>7.060000</td>\n",
       "      <td>7.200000</td>\n",
       "      <td>3.000000e+02</td>\n",
       "    </tr>\n",
       "    <tr>\n",
       "      <th>25%</th>\n",
       "      <td>29.735000</td>\n",
       "      <td>30.130000</td>\n",
       "      <td>29.290000</td>\n",
       "      <td>29.665000</td>\n",
       "      <td>2.875130e+06</td>\n",
       "    </tr>\n",
       "    <tr>\n",
       "      <th>50%</th>\n",
       "      <td>49.340000</td>\n",
       "      <td>50.000000</td>\n",
       "      <td>48.660000</td>\n",
       "      <td>49.400000</td>\n",
       "      <td>4.693841e+06</td>\n",
       "    </tr>\n",
       "    <tr>\n",
       "      <th>75%</th>\n",
       "      <td>71.500000</td>\n",
       "      <td>72.215000</td>\n",
       "      <td>70.680000</td>\n",
       "      <td>71.390000</td>\n",
       "      <td>7.301760e+06</td>\n",
       "    </tr>\n",
       "    <tr>\n",
       "      <th>max</th>\n",
       "      <td>126.080000</td>\n",
       "      <td>126.320000</td>\n",
       "      <td>124.810000</td>\n",
       "      <td>126.060000</td>\n",
       "      <td>7.234445e+07</td>\n",
       "    </tr>\n",
       "  </tbody>\n",
       "</table>\n",
       "</div>"
      ],
      "text/plain": [
       "              open         high          low        close        volume\n",
       "count  6639.000000  6639.000000  6639.000000  6639.000000  6.639000e+03\n",
       "mean     52.025905    52.605072    51.438399    52.034272  5.793768e+06\n",
       "std      27.161870    27.312972    26.994025    27.155434  4.658699e+06\n",
       "min       7.520000     7.900000     7.060000     7.200000  3.000000e+02\n",
       "25%      29.735000    30.130000    29.290000    29.665000  2.875130e+06\n",
       "50%      49.340000    50.000000    48.660000    49.400000  4.693841e+06\n",
       "75%      71.500000    72.215000    70.680000    71.390000  7.301760e+06\n",
       "max     126.080000   126.320000   124.810000   126.060000  7.234445e+07"
      ]
     },
     "execution_count": 10,
     "metadata": {},
     "output_type": "execute_result"
    }
   ],
   "source": [
    "data.describe()"
   ]
  },
  {
   "cell_type": "code",
   "execution_count": 18,
   "id": "6d0f461c-65c7-47b6-adc9-b98e0245becc",
   "metadata": {
    "tags": []
   },
   "outputs": [
    {
     "data": {
      "text/plain": [
       "datetime    6639\n",
       "open        4356\n",
       "high        4370\n",
       "low         4301\n",
       "close       4417\n",
       "volume      6623\n",
       "dtype: int64"
      ]
     },
     "execution_count": 18,
     "metadata": {},
     "output_type": "execute_result"
    }
   ],
   "source": [
    "data.nunique()"
   ]
  },
  {
   "cell_type": "markdown",
   "id": "27ac096f-2892-4791-893c-d6dc2f7be131",
   "metadata": {},
   "source": [
    "# Identifying and Rejecting useless columns\n"
   ]
  },
  {
   "cell_type": "code",
   "execution_count": 36,
   "id": "3d2fdc27-9c29-422b-97ae-0e03ac536fff",
   "metadata": {
    "tags": []
   },
   "outputs": [],
   "source": [
    "useless_columns = ['datetime']  # Assuming 'Date' column is not useful for prediction\n",
    "data = data.drop(columns=useless_columns)"
   ]
  },
  {
   "cell_type": "markdown",
   "id": "67baf372-90a2-4692-9527-8d19068ae0f9",
   "metadata": {},
   "source": [
    "# Visual Exploratory Data Analysis of data\n"
   ]
  },
  {
   "cell_type": "code",
   "execution_count": 19,
   "id": "47968164-0dd6-419b-a7cb-7f476c9c339e",
   "metadata": {
    "tags": []
   },
   "outputs": [
    {
     "data": {
      "text/plain": [
       "array([[<Axes: title={'center': 'open'}>,\n",
       "        <Axes: title={'center': 'high'}>],\n",
       "       [<Axes: title={'center': 'low'}>,\n",
       "        <Axes: title={'center': 'close'}>],\n",
       "       [<Axes: title={'center': 'volume'}>, <Axes: >]], dtype=object)"
      ]
     },
     "execution_count": 19,
     "metadata": {},
     "output_type": "execute_result"
    },
    {
     "data": {
      "image/png": "[encoded data removed]",
      "text/plain": [
       "<Figure size 1800x1000 with 6 Axes>"
      ]
     },
     "metadata": {},
     "output_type": "display_data"
    }
   ],
   "source": [
    "data.hist(['datetime','open','high','low','close','volume'], figsize=(18,10))"
   ]
  },
  {
   "cell_type": "code",
   "execution_count": 38,
   "id": "e3e10f75-61c6-4254-8b65-c11512467ee9",
   "metadata": {
    "tags": []
   },
   "outputs": [],
   "source": [
    "data = data.dropna() # remove missing value"
   ]
  },
  {
   "cell_type": "markdown",
   "id": "0dcae991-40c4-4749-9e99-2ad0cf68f433",
   "metadata": {},
   "source": [
    "there are no outliers"
   ]
  },
  {
   "cell_type": "code",
   "execution_count": 25,
   "id": "1760ba9d-c298-4e02-8b7c-c183aec7b926",
   "metadata": {
    "tags": []
   },
   "outputs": [
    {
     "data": {
      "text/plain": [
       "datetime    0\n",
       "open        0\n",
       "high        0\n",
       "low         0\n",
       "close       0\n",
       "volume      0\n",
       "dtype: int64"
      ]
     },
     "execution_count": 25,
     "metadata": {},
     "output_type": "execute_result"
    }
   ],
   "source": [
    "data.isnull().sum()"
   ]
  },
  {
   "cell_type": "markdown",
   "id": "d646b360-c8b5-446e-a667-13bdedf1f681",
   "metadata": {},
   "source": [
    "# Visual and Statistic Correlation analysis for selection of best features"
   ]
  },
  {
   "cell_type": "code",
   "execution_count": 27,
   "id": "8fe48601-923a-462c-821f-3e6c5c0fa590",
   "metadata": {
    "tags": []
   },
   "outputs": [
    {
     "data": {
      "image/png": "[encoded data removed]",
      "text/plain": [
       "<Figure size 1000x500 with 1 Axes>"
      ]
     },
     "metadata": {},
     "output_type": "display_data"
    },
    {
     "data": {
      "image/png": "[encoded data removed]",
      "text/plain": [
       "<Figure size 1000x500 with 1 Axes>"
      ]
     },
     "metadata": {},
     "output_type": "display_data"
    },
    {
     "data": {
      "image/png": "[encoded data removed]",
      "text/plain": [
       "<Figure size 1000x500 with 1 Axes>"
      ]
     },
     "metadata": {},
     "output_type": "display_data"
    },
    {
     "data": {
      "image/png": "[encoded data removed]",
      "text/plain": [
       "<Figure size 1000x500 with 1 Axes>"
      ]
     },
     "metadata": {},
     "output_type": "display_data"
    }
   ],
   "source": [
    "ContinuousCols=['open', 'high', 'low','volume']\n",
    "\n",
    "# Plotting scatter chart for each predictor vs the target variable\n",
    "for predictor in ContinuousCols:\n",
    "    data.plot.scatter(x=predictor, y='close', figsize=(10,5), title=predictor+\" VS \"+ 'close')"
   ]
  },
  {
   "cell_type": "code",
   "execution_count": 30,
   "id": "240fdda1-f270-4880-bcf6-f56d793e547c",
   "metadata": {
    "tags": []
   },
   "outputs": [
    {
     "data": {
      "text/html": [
       "<div>\n",
       "<style scoped>\n",
       "    .dataframe tbody tr th:only-of-type {\n",
       "        vertical-align: middle;\n",
       "    }\n",
       "\n",
       "    .dataframe tbody tr th {\n",
       "        vertical-align: top;\n",
       "    }\n",
       "\n",
       "    .dataframe thead th {\n",
       "        text-align: right;\n",
       "    }\n",
       "</style>\n",
       "<table border=\"1\" class=\"dataframe\">\n",
       "  <thead>\n",
       "    <tr style=\"text-align: right;\">\n",
       "      <th></th>\n",
       "      <th>open</th>\n",
       "      <th>high</th>\n",
       "      <th>low</th>\n",
       "      <th>close</th>\n",
       "      <th>volume</th>\n",
       "    </tr>\n",
       "  </thead>\n",
       "  <tbody>\n",
       "    <tr>\n",
       "      <th>open</th>\n",
       "      <td>1.000000</td>\n",
       "      <td>0.999763</td>\n",
       "      <td>0.999742</td>\n",
       "      <td>0.999524</td>\n",
       "      <td>-0.191927</td>\n",
       "    </tr>\n",
       "    <tr>\n",
       "      <th>high</th>\n",
       "      <td>0.999763</td>\n",
       "      <td>1.000000</td>\n",
       "      <td>0.999640</td>\n",
       "      <td>0.999770</td>\n",
       "      <td>-0.189593</td>\n",
       "    </tr>\n",
       "    <tr>\n",
       "      <th>low</th>\n",
       "      <td>0.999742</td>\n",
       "      <td>0.999640</td>\n",
       "      <td>1.000000</td>\n",
       "      <td>0.999762</td>\n",
       "      <td>-0.194200</td>\n",
       "    </tr>\n",
       "    <tr>\n",
       "      <th>close</th>\n",
       "      <td>0.999524</td>\n",
       "      <td>0.999770</td>\n",
       "      <td>0.999762</td>\n",
       "      <td>1.000000</td>\n",
       "      <td>-0.191477</td>\n",
       "    </tr>\n",
       "    <tr>\n",
       "      <th>volume</th>\n",
       "      <td>-0.191927</td>\n",
       "      <td>-0.189593</td>\n",
       "      <td>-0.194200</td>\n",
       "      <td>-0.191477</td>\n",
       "      <td>1.000000</td>\n",
       "    </tr>\n",
       "  </tbody>\n",
       "</table>\n",
       "</div>"
      ],
      "text/plain": [
       "            open      high       low     close    volume\n",
       "open    1.000000  0.999763  0.999742  0.999524 -0.191927\n",
       "high    0.999763  1.000000  0.999640  0.999770 -0.189593\n",
       "low     0.999742  0.999640  1.000000  0.999762 -0.194200\n",
       "close   0.999524  0.999770  0.999762  1.000000 -0.191477\n",
       "volume -0.191927 -0.189593 -0.194200 -0.191477  1.000000"
      ]
     },
     "execution_count": 30,
     "metadata": {},
     "output_type": "execute_result"
    }
   ],
   "source": [
    "ContinuousCols=['open', 'high', 'low','close','volume']\n",
    "\n",
    "# Creating the correlation matrix\n",
    "CorrelationData=data[ContinuousCols].corr()\n",
    "CorrelationData"
   ]
  },
  {
   "cell_type": "code",
   "execution_count": 31,
   "id": "41042c8b-8840-4542-b2a1-1e2e74de75de",
   "metadata": {
    "tags": []
   },
   "outputs": [
    {
     "data": {
      "text/plain": [
       "open     0.999524\n",
       "high     0.999770\n",
       "low      0.999762\n",
       "close    1.000000\n",
       "Name: close, dtype: float64"
      ]
     },
     "execution_count": 31,
     "metadata": {},
     "output_type": "execute_result"
    }
   ],
   "source": [
    "# Filtering only those columns where absolute correlation > 0.5 with Target Variable\n",
    "# reduce the 0.5 threshold if no variable is selected\n",
    "CorrelationData['close'][abs(CorrelationData['close']) > 0.5 ]"
   ]
  },
  {
   "cell_type": "markdown",
   "id": "ae904b53-54d3-4276-99fd-a57fbb1dd268",
   "metadata": {},
   "source": [
    "# Selecting final Features for building Machine learning model"
   ]
  },
  {
   "cell_type": "code",
   "execution_count": 39,
   "id": "8bfce2b9-2ffb-4c7d-b27a-3aa29f8dd550",
   "metadata": {
    "tags": []
   },
   "outputs": [
    {
     "data": {
      "text/html": [
       "<div>\n",
       "<style scoped>\n",
       "    .dataframe tbody tr th:only-of-type {\n",
       "        vertical-align: middle;\n",
       "    }\n",
       "\n",
       "    .dataframe tbody tr th {\n",
       "        vertical-align: top;\n",
       "    }\n",
       "\n",
       "    .dataframe thead th {\n",
       "        text-align: right;\n",
       "    }\n",
       "</style>\n",
       "<table border=\"1\" class=\"dataframe\">\n",
       "  <thead>\n",
       "    <tr style=\"text-align: right;\">\n",
       "      <th></th>\n",
       "      <th>open</th>\n",
       "      <th>high</th>\n",
       "      <th>low</th>\n",
       "      <th>close</th>\n",
       "    </tr>\n",
       "  </thead>\n",
       "  <tbody>\n",
       "    <tr>\n",
       "      <th>0</th>\n",
       "      <td>38.38</td>\n",
       "      <td>38.63</td>\n",
       "      <td>37.31</td>\n",
       "      <td>37.50</td>\n",
       "    </tr>\n",
       "    <tr>\n",
       "      <th>1</th>\n",
       "      <td>37.63</td>\n",
       "      <td>37.78</td>\n",
       "      <td>36.75</td>\n",
       "      <td>37.13</td>\n",
       "    </tr>\n",
       "    <tr>\n",
       "      <th>2</th>\n",
       "      <td>37.13</td>\n",
       "      <td>37.38</td>\n",
       "      <td>35.56</td>\n",
       "      <td>35.63</td>\n",
       "    </tr>\n",
       "    <tr>\n",
       "      <th>3</th>\n",
       "      <td>35.50</td>\n",
       "      <td>36.44</td>\n",
       "      <td>34.25</td>\n",
       "      <td>34.69</td>\n",
       "    </tr>\n",
       "    <tr>\n",
       "      <th>4</th>\n",
       "      <td>34.56</td>\n",
       "      <td>36.01</td>\n",
       "      <td>34.00</td>\n",
       "      <td>35.76</td>\n",
       "    </tr>\n",
       "  </tbody>\n",
       "</table>\n",
       "</div>"
      ],
      "text/plain": [
       "    open   high    low  close\n",
       "0  38.38  38.63  37.31  37.50\n",
       "1  37.63  37.78  36.75  37.13\n",
       "2  37.13  37.38  35.56  35.63\n",
       "3  35.50  36.44  34.25  34.69\n",
       "4  34.56  36.01  34.00  35.76"
      ]
     },
     "execution_count": 39,
     "metadata": {},
     "output_type": "execute_result"
    }
   ],
   "source": [
    "SelectedColumns=['open', 'high', 'low','close']\n",
    "\n",
    "# Selecting final columns\n",
    "DataForML=data[SelectedColumns]\n",
    "DataForML.head()"
   ]
  },
  {
   "cell_type": "code",
   "execution_count": 40,
   "id": "7726220c-db42-4d57-b429-511bad690cbf",
   "metadata": {
    "tags": []
   },
   "outputs": [],
   "source": [
    "# Saving this final data subset for reference during deployment\n",
    "DataForML.to_pickle('DataForML.pkl')"
   ]
  },
  {
   "cell_type": "markdown",
   "id": "c5509329-c827-4d23-be6f-a24d7282c7dd",
   "metadata": {},
   "source": [
    "# Converting the nominal variable to numeric using get_dummies()"
   ]
  },
  {
   "cell_type": "code",
   "execution_count": 41,
   "id": "b749868b-063a-4bef-85ad-f5a7ae4cafab",
   "metadata": {
    "tags": []
   },
   "outputs": [
    {
     "data": {
      "text/html": [
       "<div>\n",
       "<style scoped>\n",
       "    .dataframe tbody tr th:only-of-type {\n",
       "        vertical-align: middle;\n",
       "    }\n",
       "\n",
       "    .dataframe tbody tr th {\n",
       "        vertical-align: top;\n",
       "    }\n",
       "\n",
       "    .dataframe thead th {\n",
       "        text-align: right;\n",
       "    }\n",
       "</style>\n",
       "<table border=\"1\" class=\"dataframe\">\n",
       "  <thead>\n",
       "    <tr style=\"text-align: right;\">\n",
       "      <th></th>\n",
       "      <th>open</th>\n",
       "      <th>high</th>\n",
       "      <th>low</th>\n",
       "      <th>close</th>\n",
       "    </tr>\n",
       "  </thead>\n",
       "  <tbody>\n",
       "    <tr>\n",
       "      <th>0</th>\n",
       "      <td>38.38</td>\n",
       "      <td>38.63</td>\n",
       "      <td>37.31</td>\n",
       "      <td>37.50</td>\n",
       "    </tr>\n",
       "    <tr>\n",
       "      <th>1</th>\n",
       "      <td>37.63</td>\n",
       "      <td>37.78</td>\n",
       "      <td>36.75</td>\n",
       "      <td>37.13</td>\n",
       "    </tr>\n",
       "    <tr>\n",
       "      <th>2</th>\n",
       "      <td>37.13</td>\n",
       "      <td>37.38</td>\n",
       "      <td>35.56</td>\n",
       "      <td>35.63</td>\n",
       "    </tr>\n",
       "    <tr>\n",
       "      <th>3</th>\n",
       "      <td>35.50</td>\n",
       "      <td>36.44</td>\n",
       "      <td>34.25</td>\n",
       "      <td>34.69</td>\n",
       "    </tr>\n",
       "    <tr>\n",
       "      <th>4</th>\n",
       "      <td>34.56</td>\n",
       "      <td>36.01</td>\n",
       "      <td>34.00</td>\n",
       "      <td>35.76</td>\n",
       "    </tr>\n",
       "  </tbody>\n",
       "</table>\n",
       "</div>"
      ],
      "text/plain": [
       "    open   high    low  close\n",
       "0  38.38  38.63  37.31  37.50\n",
       "1  37.63  37.78  36.75  37.13\n",
       "2  37.13  37.38  35.56  35.63\n",
       "3  35.50  36.44  34.25  34.69\n",
       "4  34.56  36.01  34.00  35.76"
      ]
     },
     "execution_count": 41,
     "metadata": {},
     "output_type": "execute_result"
    }
   ],
   "source": [
    "# Treating all the nominal variables at once using dummy variables\n",
    "DataForML_Numeric=pd.get_dummies(DataForML)\n",
    "\n",
    "# Adding Target Variable to the data\n",
    "DataForML_Numeric['close']=data['close']\n",
    "\n",
    "# Printing sample rows\n",
    "DataForML_Numeric.head()"
   ]
  },
  {
   "cell_type": "code",
   "execution_count": 42,
   "id": "d7f215ca-691f-46f6-8997-7fc1f586aa1b",
   "metadata": {
    "tags": []
   },
   "outputs": [
    {
     "data": {
      "text/plain": [
       "Index(['open', 'high', 'low', 'close'], dtype='object')"
      ]
     },
     "execution_count": 42,
     "metadata": {},
     "output_type": "execute_result"
    }
   ],
   "source": [
    "# Printing all the column names for our reference\n",
    "DataForML_Numeric.columns"
   ]
  },
  {
   "cell_type": "code",
   "execution_count": 79,
   "id": "91642065-3796-49ce-b578-b90b6ab576bd",
   "metadata": {
    "tags": []
   },
   "outputs": [],
   "source": [
    "#Separate Target Variable and Predictor Variables\n",
    "TargetVariable='close'\n",
    "Predictors=['open', 'high', 'low']\n",
    "\n",
    "X=DataForML_Numeric[Predictors].values\n",
    "y=DataForML_Numeric[TargetVariable].values"
   ]
  },
  {
   "cell_type": "markdown",
   "id": "03fda8cf-3922-4d96-9c9c-0be1fb57f41f",
   "metadata": {},
   "source": [
    "# Training/Testing Sampling and K-fold cross validation"
   ]
  },
  {
   "cell_type": "code",
   "execution_count": 80,
   "id": "2a266c69-1f1f-44eb-a7de-9e9c572b2c84",
   "metadata": {
    "tags": []
   },
   "outputs": [],
   "source": [
    "# Split the data into training and testing set\n",
    "from sklearn.model_selection import train_test_split,KFold\n",
    "X_train, X_test, y_train, y_test = train_test_split(X, y, test_size=0.3, random_state=428)"
   ]
  },
  {
   "cell_type": "code",
   "execution_count": 81,
   "id": "097c5380-1897-4a5a-a9ab-7349e5133255",
   "metadata": {
    "tags": []
   },
   "outputs": [],
   "source": [
    "# Apply K-fold cross validation\n",
    "kf = KFold(n_splits=5, shuffle=True, random_state=42)"
   ]
  },
  {
   "cell_type": "code",
   "execution_count": 82,
   "id": "c82699f1-4a74-4f6e-9e44-8d3c70f638cc",
   "metadata": {
    "tags": []
   },
   "outputs": [
    {
     "name": "stdout",
     "output_type": "stream",
     "text": [
      "(4647, 3)\n",
      "(4647,)\n",
      "(1992, 3)\n",
      "(1992,)\n"
     ]
    }
   ],
   "source": [
    "# Sanity check for the sampled data\n",
    "print(X_train.shape)\n",
    "print(y_train.shape)\n",
    "print(X_test.shape)\n",
    "print(y_test.shape)"
   ]
  },
  {
   "cell_type": "markdown",
   "id": "b6fd76d4-959d-4174-9b81-b21a9106561c",
   "metadata": {},
   "source": [
    "# Investigating multiple Regression algorithms"
   ]
  },
  {
   "cell_type": "code",
   "execution_count": 83,
   "id": "b9abc8cb-5f08-4813-a1be-2d55af1950bc",
   "metadata": {
    "tags": []
   },
   "outputs": [
    {
     "name": "stdout",
     "output_type": "stream",
     "text": [
      "LinearRegression()\n",
      "R2 Value: 0.9998091523732308\n",
      "\n",
      "##### Model Validation and Accuracy Calculations ##########\n",
      "    open   high    low  close  Predictedclose\n",
      "0  17.42  18.25  17.40  18.23            18.0\n",
      "1  92.66  92.73  91.73  92.71            92.0\n",
      "2  89.28  89.82  88.85  89.77            89.0\n",
      "3  53.18  53.58  52.95  53.01            53.0\n",
      "4  40.19  40.50  39.50  40.25            40.0\n",
      "Mean Accuracy on test data: 99.09826578694874\n",
      "Median Accuracy on test data: 99.35248929780067\n",
      "\n",
      "Accuracy values for 10-fold Cross Validation:\n",
      " [98.95198403 99.15691543 99.5142357  99.45834753 99.18057654 99.54186981\n",
      " 99.6078107  99.67039986 99.52543805 99.55595336]\n",
      "\n",
      "Final Average Accuracy of the model: 99.42\n"
     ]
    }
   ],
   "source": [
    "#Multiple Linear Regression\n",
    "from sklearn.linear_model import LinearRegression\n",
    "RegModel = LinearRegression()\n",
    "\n",
    "# Printing all the parameters of Linear regression\n",
    "print(RegModel)\n",
    "\n",
    "# Creating the model on Training Data\n",
    "LREG=RegModel.fit(X_train,y_train)\n",
    "prediction=LREG.predict(X_test)\n",
    "\n",
    "from sklearn import metrics\n",
    "# Measuring Goodness of fit in Training data\n",
    "print('R2 Value:',metrics.r2_score(y_train, LREG.predict(X_train)))\n",
    "\n",
    "###########################################################################\n",
    "print('\\n##### Model Validation and Accuracy Calculations ##########')\n",
    "\n",
    "# Printing some sample values of prediction\n",
    "TestingDataResults=pd.DataFrame(data=X_test, columns=Predictors)\n",
    "TestingDataResults[TargetVariable]=y_test\n",
    "TestingDataResults[('Predicted'+TargetVariable)]=np.round(prediction)\n",
    "\n",
    "# Printing sample prediction values\n",
    "print(TestingDataResults.head())\n",
    "\n",
    "# Calculating the error for each row\n",
    "TestingDataResults['APE']=100 * ((abs(\n",
    "  TestingDataResults['close']-TestingDataResults['Predictedclose']))/TestingDataResults['close'])\n",
    "\n",
    "MAPE=np.mean(TestingDataResults['APE'])\n",
    "MedianMAPE=np.median(TestingDataResults['APE'])\n",
    "\n",
    "Accuracy =100 - MAPE\n",
    "MedianAccuracy=100- MedianMAPE\n",
    "print('Mean Accuracy on test data:', Accuracy) # Can be negative sometimes due to outlier\n",
    "print('Median Accuracy on test data:', MedianAccuracy)\n",
    "\n",
    "# Defining a custom function to calculate accuracy\n",
    "# Make sure there are no zeros in the Target variable if you are using MAPE\n",
    "def Accuracy_Score(orig,pred):\n",
    "    MAPE = np.mean(100 * (np.abs(orig-pred)/orig))\n",
    "    #print('#'*70,'Accuracy:', 100-MAPE)\n",
    "    return(100-MAPE)\n",
    "\n",
    "# Custom Scoring MAPE calculation\n",
    "from sklearn.metrics import make_scorer\n",
    "custom_Scoring=make_scorer(Accuracy_Score, greater_is_better=True)\n",
    "\n",
    "# Importing cross validation function from sklearn\n",
    "from sklearn.model_selection import cross_val_score\n",
    "\n",
    "# Running 10-Fold Cross validation on a given algorithm\n",
    "# Passing full data X and y because the K-fold will split the data and automatically choose train/test\n",
    "Accuracy_Values=cross_val_score(RegModel, X , y, cv=10, scoring=custom_Scoring)\n",
    "print('\\nAccuracy values for 10-fold Cross Validation:\\n',Accuracy_Values)\n",
    "print('\\nFinal Average Accuracy of the model:', round(Accuracy_Values.mean(),2))"
   ]
  },
  {
   "cell_type": "markdown",
   "id": "106af890-c937-4c5a-9045-fc9d14db646c",
   "metadata": {},
   "source": [
    "# Decision Tree Regressor"
   ]
  },
  {
   "cell_type": "code",
   "execution_count": 84,
   "id": "71a17a23-3e09-4d21-820e-710f81d9d930",
   "metadata": {
    "tags": []
   },
   "outputs": [
    {
     "name": "stdout",
     "output_type": "stream",
     "text": [
      "DecisionTreeRegressor(criterion='friedman_mse', max_depth=5)\n",
      "R2 Value: 0.9983235799021831\n",
      "\n",
      "##### Model Validation and Accuracy Calculations ##########\n",
      "    open   high    low  close  Predictedclose\n",
      "0  17.42  18.25  17.40  18.23            16.0\n",
      "1  92.66  92.73  91.73  92.71            92.0\n",
      "2  89.28  89.82  88.85  89.77            88.0\n",
      "3  53.18  53.58  52.95  53.01            53.0\n",
      "4  40.19  40.50  39.50  40.25            41.0\n",
      "Mean Accuracy on test data: 97.085209459134\n",
      "Median Accuracy on test data: 98.28760192023594\n",
      "\n",
      "Accuracy values for 10-fold Cross Validation:\n",
      " [97.2189049  95.13873531 97.68830545 95.24226674 79.81379674 98.20463619\n",
      " 98.66275864 98.15405802 98.27014902 98.11935119]\n",
      "\n",
      "Final Average Accuracy of the model: 95.65\n"
     ]
    },
    {
     "data": {
      "image/png": "[encoded data removed]",
      "text/plain": [
       "<Figure size 640x480 with 1 Axes>"
      ]
     },
     "metadata": {},
     "output_type": "display_data"
    }
   ],
   "source": [
    "# Decision Trees (Multiple if-else statements!)\n",
    "from sklearn.tree import DecisionTreeRegressor\n",
    "RegModel = DecisionTreeRegressor(max_depth=5,criterion='friedman_mse')\n",
    "# Good Range of Max_depth = 2 to 20\n",
    "\n",
    "# Printing all the parameters of Decision Tree\n",
    "print(RegModel)\n",
    "\n",
    "# Creating the model on Training Data\n",
    "DT=RegModel.fit(X_train,y_train)\n",
    "prediction=DT.predict(X_test)\n",
    "\n",
    "from sklearn import metrics\n",
    "# Measuring Goodness of fit in Training data\n",
    "print('R2 Value:',metrics.r2_score(y_train, DT.predict(X_train)))\n",
    "\n",
    "# Plotting the feature importance for Top 10 most important columns\n",
    "%matplotlib inline\n",
    "feature_importances = pd.Series(DT.feature_importances_, index=Predictors)\n",
    "feature_importances.nlargest(10).plot(kind='barh')\n",
    "\n",
    "###########################################################################\n",
    "print('\\n##### Model Validation and Accuracy Calculations ##########')\n",
    "\n",
    "# Printing some sample values of prediction\n",
    "TestingDataResults=pd.DataFrame(data=X_test, columns=Predictors)\n",
    "TestingDataResults[TargetVariable]=y_test\n",
    "TestingDataResults[('Predicted'+TargetVariable)]=np.round(prediction)\n",
    "\n",
    "# Printing sample prediction values\n",
    "print(TestingDataResults.head())\n",
    "\n",
    "# Calculating the error for each row\n",
    "TestingDataResults['APE']=100 * ((abs(\n",
    "  TestingDataResults['close']-TestingDataResults['Predictedclose']))/TestingDataResults['close'])\n",
    "\n",
    "MAPE=np.mean(TestingDataResults['APE'])\n",
    "MedianMAPE=np.median(TestingDataResults['APE'])\n",
    "\n",
    "Accuracy =100 - MAPE\n",
    "MedianAccuracy=100- MedianMAPE\n",
    "print('Mean Accuracy on test data:', Accuracy) # Can be negative sometimes due to outlier\n",
    "print('Median Accuracy on test data:', MedianAccuracy)\n",
    "\n",
    "# Defining a custom function to calculate accuracy\n",
    "# Make sure there are no zeros in the Target variable if you are using MAPE\n",
    "def Accuracy_Score(orig,pred):\n",
    "    MAPE = np.mean(100 * (np.abs(orig-pred)/orig))\n",
    "    #print('#'*70,'Accuracy:', 100-MAPE)\n",
    "    return(100-MAPE)\n",
    "\n",
    "# Custom Scoring MAPE calculation\n",
    "from sklearn.metrics import make_scorer\n",
    "custom_Scoring=make_scorer(Accuracy_Score, greater_is_better=True)\n",
    "\n",
    "# Importing cross validation function from sklearn\n",
    "from sklearn.model_selection import cross_val_score\n",
    "\n",
    "# Running 10-Fold Cross validation on a given algorithm\n",
    "# Passing full data X and y because the K-fold will split the data and automatically choose train/test\n",
    "Accuracy_Values=cross_val_score(RegModel, X , y, cv=10, scoring=custom_Scoring)\n",
    "print('\\nAccuracy values for 10-fold Cross Validation:\\n',Accuracy_Values)\n",
    "print('\\nFinal Average Accuracy of the model:', round(Accuracy_Values.mean(),2))"
   ]
  },
  {
   "cell_type": "markdown",
   "id": "65073f63-7917-41ae-b1eb-6596e032e55d",
   "metadata": {},
   "source": [
    "# Random Forest Regressor"
   ]
  },
  {
   "cell_type": "code",
   "execution_count": 85,
   "id": "ebaa9998-0dbe-436d-b232-e7c5a7b19529",
   "metadata": {
    "tags": []
   },
   "outputs": [
    {
     "name": "stdout",
     "output_type": "stream",
     "text": [
      "RandomForestRegressor(criterion='friedman_mse', max_depth=4, n_estimators=400)\n",
      "R2 Value: 0.9961310879914882\n",
      "\n",
      "##### Model Validation and Accuracy Calculations ##########\n",
      "    open   high    low  close  Predictedclose\n",
      "0  17.42  18.25  17.40  18.23            15.0\n",
      "1  92.66  92.73  91.73  92.71            94.0\n",
      "2  89.28  89.82  88.85  89.77            88.0\n",
      "3  53.18  53.58  52.95  53.01            54.0\n",
      "4  40.19  40.50  39.50  40.25            42.0\n",
      "Mean Accuracy on test data: 95.3120630403542\n",
      "Median Accuracy on test data: 97.59896655274595\n",
      "\n",
      "Accuracy values for 10-fold Cross Validation:\n",
      " [96.08604897 92.12407288 96.40396828 92.66983729 73.01894768 97.75176792\n",
      " 97.96787687 97.52824708 97.55694181 97.33088552]\n",
      "\n",
      "Final Average Accuracy of the model: 93.84\n"
     ]
    },
    {
     "data": {
      "image/png": "[encoded data removed]",
      "text/plain": [
       "<Figure size 640x480 with 1 Axes>"
      ]
     },
     "metadata": {},
     "output_type": "display_data"
    }
   ],
   "source": [
    "# Random Forest (Bagging of multiple Decision Trees)\n",
    "from sklearn.ensemble import RandomForestRegressor\n",
    "RegModel = RandomForestRegressor(max_depth=4, n_estimators=400,criterion='friedman_mse')\n",
    "# Good range for max_depth: 2-10 and n_estimators: 100-1000\n",
    "\n",
    "# Printing all the parameters of Random Forest\n",
    "print(RegModel)\n",
    "\n",
    "# Creating the model on Training Data\n",
    "RF=RegModel.fit(X_train,y_train)\n",
    "prediction=RF.predict(X_test)\n",
    "\n",
    "from sklearn import metrics\n",
    "# Measuring Goodness of fit in Training data\n",
    "print('R2 Value:',metrics.r2_score(y_train, RF.predict(X_train)))\n",
    "\n",
    "# Plotting the feature importance for Top 10 most important columns\n",
    "%matplotlib inline\n",
    "feature_importances = pd.Series(RF.feature_importances_, index=Predictors)\n",
    "feature_importances.nlargest(10).plot(kind='barh')\n",
    "\n",
    "###########################################################################\n",
    "print('\\n##### Model Validation and Accuracy Calculations ##########')\n",
    "\n",
    "# Printing some sample values of prediction\n",
    "TestingDataResults=pd.DataFrame(data=X_test, columns=Predictors)\n",
    "TestingDataResults[TargetVariable]=y_test\n",
    "TestingDataResults[('Predicted'+TargetVariable)]=np.round(prediction)\n",
    "\n",
    "# Printing sample prediction values\n",
    "print(TestingDataResults.head())\n",
    "\n",
    "# Calculating the error for each row\n",
    "TestingDataResults['APE']=100 * ((abs(\n",
    "  TestingDataResults['close']-TestingDataResults['Predictedclose']))/TestingDataResults['close'])\n",
    "\n",
    "MAPE=np.mean(TestingDataResults['APE'])\n",
    "MedianMAPE=np.median(TestingDataResults['APE'])\n",
    "\n",
    "Accuracy =100 - MAPE\n",
    "MedianAccuracy=100- MedianMAPE\n",
    "print('Mean Accuracy on test data:', Accuracy) # Can be negative sometimes due to outlier\n",
    "print('Median Accuracy on test data:', MedianAccuracy)\n",
    "\n",
    "\n",
    "# Defining a custom function to calculate accuracy\n",
    "# Make sure there are no zeros in the Target variable if you are using MAPE\n",
    "def Accuracy_Score(orig,pred):\n",
    "    MAPE = np.mean(100 * (np.abs(orig-pred)/orig))\n",
    "    #print('#'*70,'Accuracy:', 100-MAPE)\n",
    "    return(100-MAPE)\n",
    "\n",
    "# Custom Scoring MAPE calculation\n",
    "from sklearn.metrics import make_scorer\n",
    "custom_Scoring=make_scorer(Accuracy_Score, greater_is_better=True)\n",
    "\n",
    "# Importing cross validation function from sklearn\n",
    "from sklearn.model_selection import cross_val_score\n",
    "\n",
    "# Running 10-Fold Cross validation on a given algorithm\n",
    "# Passing full data X and y because the K-fold will split the data and automatically choose train/test\n",
    "Accuracy_Values=cross_val_score(RegModel, X , y, cv=10, scoring=custom_Scoring)\n",
    "print('\\nAccuracy values for 10-fold Cross Validation:\\n',Accuracy_Values)\n",
    "print('\\nFinal Average Accuracy of the model:', round(Accuracy_Values.mean(),2))"
   ]
  },
  {
   "cell_type": "markdown",
   "id": "dc007eac-2a6a-4429-a452-dea0060995ae",
   "metadata": {},
   "source": [
    "# AdaBoost Algorithm For ML/AI model building"
   ]
  },
  {
   "cell_type": "code",
   "execution_count": 86,
   "id": "6c16acdd-35ea-4e7e-826a-4185b450efd7",
   "metadata": {
    "tags": []
   },
   "outputs": [
    {
     "name": "stdout",
     "output_type": "stream",
     "text": [
      "AdaBoostRegressor(base_estimator=DecisionTreeRegressor(max_depth=3),\n",
      "                  learning_rate=0.04, n_estimators=100)\n"
     ]
    },
    {
     "name": "stderr",
     "output_type": "stream",
     "text": [
      "C:\\Users\\leosa\\anaconda3\\Lib\\site-packages\\sklearn\\ensemble\\_base.py:166: FutureWarning: `base_estimator` was renamed to `estimator` in version 1.2 and will be removed in 1.4.\n",
      "  warnings.warn(\n"
     ]
    },
    {
     "name": "stdout",
     "output_type": "stream",
     "text": [
      "R2 Value: 0.9874200028386855\n",
      "\n",
      "##### Model Validation and Accuracy Calculations ##########\n",
      "    open   high    low  close  Predictedclose\n",
      "0  17.42  18.25  17.40  18.23            18.0\n",
      "1  92.66  92.73  91.73  92.71            97.0\n",
      "2  89.28  89.82  88.85  89.77            84.0\n",
      "3  53.18  53.58  52.95  53.01            56.0\n",
      "4  40.19  40.50  39.50  40.25            44.0\n",
      "Mean Accuracy on test data: 92.64550683381638\n",
      "Median Accuracy on test data: 95.2747477872183\n"
     ]
    },
    {
     "name": "stderr",
     "output_type": "stream",
     "text": [
      "C:\\Users\\leosa\\anaconda3\\Lib\\site-packages\\sklearn\\ensemble\\_base.py:166: FutureWarning: `base_estimator` was renamed to `estimator` in version 1.2 and will be removed in 1.4.\n",
      "  warnings.warn(\n",
      "C:\\Users\\leosa\\anaconda3\\Lib\\site-packages\\sklearn\\ensemble\\_base.py:166: FutureWarning: `base_estimator` was renamed to `estimator` in version 1.2 and will be removed in 1.4.\n",
      "  warnings.warn(\n",
      "C:\\Users\\leosa\\anaconda3\\Lib\\site-packages\\sklearn\\ensemble\\_base.py:166: FutureWarning: `base_estimator` was renamed to `estimator` in version 1.2 and will be removed in 1.4.\n",
      "  warnings.warn(\n",
      "C:\\Users\\leosa\\anaconda3\\Lib\\site-packages\\sklearn\\ensemble\\_base.py:166: FutureWarning: `base_estimator` was renamed to `estimator` in version 1.2 and will be removed in 1.4.\n",
      "  warnings.warn(\n",
      "C:\\Users\\leosa\\anaconda3\\Lib\\site-packages\\sklearn\\ensemble\\_base.py:166: FutureWarning: `base_estimator` was renamed to `estimator` in version 1.2 and will be removed in 1.4.\n",
      "  warnings.warn(\n",
      "C:\\Users\\leosa\\anaconda3\\Lib\\site-packages\\sklearn\\ensemble\\_base.py:166: FutureWarning: `base_estimator` was renamed to `estimator` in version 1.2 and will be removed in 1.4.\n",
      "  warnings.warn(\n",
      "C:\\Users\\leosa\\anaconda3\\Lib\\site-packages\\sklearn\\ensemble\\_base.py:166: FutureWarning: `base_estimator` was renamed to `estimator` in version 1.2 and will be removed in 1.4.\n",
      "  warnings.warn(\n",
      "C:\\Users\\leosa\\anaconda3\\Lib\\site-packages\\sklearn\\ensemble\\_base.py:166: FutureWarning: `base_estimator` was renamed to `estimator` in version 1.2 and will be removed in 1.4.\n",
      "  warnings.warn(\n",
      "C:\\Users\\leosa\\anaconda3\\Lib\\site-packages\\sklearn\\ensemble\\_base.py:166: FutureWarning: `base_estimator` was renamed to `estimator` in version 1.2 and will be removed in 1.4.\n",
      "  warnings.warn(\n",
      "C:\\Users\\leosa\\anaconda3\\Lib\\site-packages\\sklearn\\ensemble\\_base.py:166: FutureWarning: `base_estimator` was renamed to `estimator` in version 1.2 and will be removed in 1.4.\n",
      "  warnings.warn(\n"
     ]
    },
    {
     "name": "stdout",
     "output_type": "stream",
     "text": [
      "\n",
      "Accuracy values for 10-fold Cross Validation:\n",
      " [91.8877845  88.74248195 94.06653271 93.13784191 59.36015298 94.250584\n",
      " 95.95391621 94.10671747 96.58169702 97.43868228]\n",
      "\n",
      "Final Average Accuracy of the model: 90.55\n"
     ]
    },
    {
     "data": {
      "image/png": "[encoded data removed]",
      "text/plain": [
       "<Figure size 640x480 with 1 Axes>"
      ]
     },
     "metadata": {},
     "output_type": "display_data"
    }
   ],
   "source": [
    "# Adaboost (Boosting of multiple Decision Trees)\n",
    "from sklearn.ensemble import AdaBoostRegressor\n",
    "from sklearn.tree import DecisionTreeRegressor\n",
    "\n",
    "# Choosing Decision Tree with 6 level as the weak learner\n",
    "DTR=DecisionTreeRegressor(max_depth=3)\n",
    "RegModel = AdaBoostRegressor(n_estimators=100, base_estimator=DTR ,learning_rate=0.04)\n",
    "\n",
    "# Printing all the parameters of Adaboost\n",
    "print(RegModel)\n",
    "\n",
    "# Creating the model on Training Data\n",
    "AB=RegModel.fit(X_train,y_train)\n",
    "prediction=AB.predict(X_test)\n",
    "\n",
    "from sklearn import metrics\n",
    "# Measuring Goodness of fit in Training data\n",
    "print('R2 Value:',metrics.r2_score(y_train, AB.predict(X_train)))\n",
    "\n",
    "# Plotting the feature importance for Top 10 most important columns\n",
    "%matplotlib inline\n",
    "feature_importances = pd.Series(AB.feature_importances_, index=Predictors)\n",
    "feature_importances.nlargest(10).plot(kind='barh')\n",
    "\n",
    "###########################################################################\n",
    "print('\\n##### Model Validation and Accuracy Calculations ##########')\n",
    "\n",
    "# Printing some sample values of prediction\n",
    "TestingDataResults=pd.DataFrame(data=X_test, columns=Predictors)\n",
    "TestingDataResults[TargetVariable]=y_test\n",
    "TestingDataResults[('Predicted'+TargetVariable)]=np.round(prediction)\n",
    "\n",
    "# Printing sample prediction values\n",
    "print(TestingDataResults.head())\n",
    "\n",
    "# Calculating the error for each row\n",
    "TestingDataResults['APE']=100 * ((abs(\n",
    "  TestingDataResults['close']-TestingDataResults['Predictedclose']))/TestingDataResults['close'])\n",
    "\n",
    "MAPE=np.mean(TestingDataResults['APE'])\n",
    "MedianMAPE=np.median(TestingDataResults['APE'])\n",
    "\n",
    "Accuracy =100 - MAPE\n",
    "MedianAccuracy=100- MedianMAPE\n",
    "print('Mean Accuracy on test data:', Accuracy) # Can be negative sometimes due to outlier\n",
    "print('Median Accuracy on test data:', MedianAccuracy)\n",
    "\n",
    "\n",
    "# Defining a custom function to calculate accuracy\n",
    "# Make sure there are no zeros in the Target variable if you are using MAPE\n",
    "def Accuracy_Score(orig,pred):\n",
    "    MAPE = np.mean(100 * (np.abs(orig-pred)/orig))\n",
    "    #print('#'*70,'Accuracy:', 100-MAPE)\n",
    "    return(100-MAPE)\n",
    "\n",
    "# Custom Scoring MAPE calculation\n",
    "from sklearn.metrics import make_scorer\n",
    "custom_Scoring=make_scorer(Accuracy_Score, greater_is_better=True)\n",
    "\n",
    "# Importing cross validation function from sklearn\n",
    "from sklearn.model_selection import cross_val_score\n",
    "\n",
    "# Running 10-Fold Cross validation on a given algorithm\n",
    "# Passing full data X and y because the K-fold will split the data and automatically choose train/test\n",
    "Accuracy_Values=cross_val_score(RegModel, X , y, cv=10, scoring=custom_Scoring)\n",
    "print('\\nAccuracy values for 10-fold Cross Validation:\\n',Accuracy_Values)\n",
    "print('\\nFinal Average Accuracy of the model:', round(Accuracy_Values.mean(),2))"
   ]
  },
  {
   "cell_type": "markdown",
   "id": "dac9d261-050e-45fb-8937-1c872467d477",
   "metadata": {},
   "source": [
    "# K-Nearest Neighbor(KNN)"
   ]
  },
  {
   "cell_type": "code",
   "execution_count": 87,
   "id": "17fb2dcf-cc55-4601-aed9-f3970286d5a4",
   "metadata": {
    "tags": []
   },
   "outputs": [
    {
     "name": "stdout",
     "output_type": "stream",
     "text": [
      "KNeighborsRegressor(n_neighbors=3)\n",
      "R2 Value: 0.9998632274989424\n",
      "\n",
      "##### Model Validation and Accuracy Calculations ##########\n",
      "    open   high    low  close  Predictedclose\n",
      "0  17.42  18.25  17.40  18.23            18.0\n",
      "1  92.66  92.73  91.73  92.71            92.0\n",
      "2  89.28  89.82  88.85  89.77            89.0\n",
      "3  53.18  53.58  52.95  53.01            53.0\n",
      "4  40.19  40.50  39.50  40.25            40.0\n",
      "Mean Accuracy on test data: 98.99669052250817\n",
      "Median Accuracy on test data: 99.30697178380721\n",
      "\n",
      "Accuracy values for 10-fold Cross Validation:\n",
      " [98.80993439 98.98363445 99.42660587 99.33585507 90.65026552 99.43571529\n",
      " 99.5190001  99.57406501 99.3123993  99.43115121]\n",
      "\n",
      "Final Average Accuracy of the model: 98.45\n"
     ]
    }
   ],
   "source": [
    "#kNN\n",
    "# K-Nearest Neighbor(KNN)\n",
    "from sklearn.neighbors import KNeighborsRegressor\n",
    "RegModel = KNeighborsRegressor(n_neighbors=3)\n",
    "\n",
    "# Printing all the parameters of KNN\n",
    "print(RegModel)\n",
    "\n",
    "# Creating the model on Training Data\n",
    "KNN=RegModel.fit(X_train,y_train)\n",
    "prediction=KNN.predict(X_test)\n",
    "\n",
    "from sklearn import metrics\n",
    "# Measuring Goodness of fit in Training data\n",
    "print('R2 Value:',metrics.r2_score(y_train, KNN.predict(X_train)))\n",
    "\n",
    "# Plotting the feature importance for Top 10 most important columns\n",
    "# The variable importance chart is not available for KNN\n",
    "\n",
    "###########################################################################\n",
    "print('\\n##### Model Validation and Accuracy Calculations ##########')\n",
    "\n",
    "# Printing some sample values of prediction\n",
    "TestingDataResults=pd.DataFrame(data=X_test, columns=Predictors)\n",
    "TestingDataResults[TargetVariable]=y_test\n",
    "TestingDataResults[('Predicted'+TargetVariable)]=np.round(prediction)\n",
    "\n",
    "# Printing sample prediction values\n",
    "print(TestingDataResults.head())\n",
    "\n",
    "# Calculating the error for each row\n",
    "TestingDataResults['APE']=100 * ((abs(\n",
    "  TestingDataResults['close']-TestingDataResults['Predictedclose']))/TestingDataResults['close'])\n",
    "\n",
    "MAPE=np.mean(TestingDataResults['APE'])\n",
    "MedianMAPE=np.median(TestingDataResults['APE'])\n",
    "\n",
    "Accuracy =100 - MAPE\n",
    "MedianAccuracy=100- MedianMAPE\n",
    "print('Mean Accuracy on test data:', Accuracy) # Can be negative sometimes due to outlier\n",
    "print('Median Accuracy on test data:', MedianAccuracy)\n",
    "\n",
    "# Defining a custom function to calculate accuracy\n",
    "# Make sure there are no zeros in the Target variable if you are using MAPE\n",
    "def Accuracy_Score(orig,pred):\n",
    "    MAPE = np.mean(100 * (np.abs(orig-pred)/orig))\n",
    "    #print('#'*70,'Accuracy:', 100-MAPE)\n",
    "    return(100-MAPE)\n",
    "\n",
    "# Custom Scoring MAPE calculation\n",
    "from sklearn.metrics import make_scorer\n",
    "custom_Scoring=make_scorer(Accuracy_Score, greater_is_better=True)\n",
    "\n",
    "# Importing cross validation function from sklearn\n",
    "from sklearn.model_selection import cross_val_score\n",
    "\n",
    "# Running 10-Fold Cross validation on a given algorithm\n",
    "# Passing full data X and y because the K-fold will split the data and automatically choose train/test\n",
    "Accuracy_Values=cross_val_score(RegModel, X , y, cv=10, scoring=custom_Scoring)\n",
    "print('\\nAccuracy values for 10-fold Cross Validation:\\n',Accuracy_Values)\n",
    "print('\\nFinal Average Accuracy of the model:', round(Accuracy_Values.mean(),2))"
   ]
  },
  {
   "cell_type": "markdown",
   "id": "2b2e8e95-ded9-4968-a964-9acbff503354",
   "metadata": {},
   "source": [
    "# Support Vector Machine (SVM) Regressor"
   ]
  },
  {
   "cell_type": "code",
   "execution_count": 88,
   "id": "d4a8816f-2994-4bd1-b74c-a7775ba280d5",
   "metadata": {
    "tags": []
   },
   "outputs": [
    {
     "name": "stdout",
     "output_type": "stream",
     "text": [
      "SVR(C=50, gamma=0.01)\n",
      "R2 Value: 0.999811339169736\n",
      "\n",
      "##### Model Validation and Accuracy Calculations ##########\n",
      "    open   high    low  close  Predictedclose\n",
      "0  17.42  18.25  17.40  18.23            18.0\n",
      "1  92.66  92.73  91.73  92.71            92.0\n",
      "2  89.28  89.82  88.85  89.77            89.0\n",
      "3  53.18  53.58  52.95  53.01            53.0\n",
      "4  40.19  40.50  39.50  40.25            40.0\n",
      "Mean Accuracy on test data: 99.09912187097696\n",
      "Median Accuracy on test data: 99.35893587521728\n",
      "\n",
      "Accuracy values for 10-fold Cross Validation:\n",
      " [98.80646629 99.14519676 99.51653598 99.44250406 62.60646141 99.54355284\n",
      " 99.60306364 99.65955355 98.9061017  99.50420704]\n",
      "\n",
      "Final Average Accuracy of the model: 95.67\n"
     ]
    }
   ],
   "source": [
    "# Support Vector Machines(SVM)\n",
    "from sklearn import svm\n",
    "RegModel = svm.SVR(C=50, kernel='rbf', gamma=0.01)\n",
    "\n",
    "# Printing all the parameters\n",
    "print(RegModel)\n",
    "\n",
    "# Creating the model on Training Data\n",
    "SVM=RegModel.fit(X_train,y_train)\n",
    "prediction=SVM.predict(X_test)\n",
    "\n",
    "from sklearn import metrics\n",
    "# Measuring Goodness of fit in Training data\n",
    "print('R2 Value:',metrics.r2_score(y_train, SVM.predict(X_train)))\n",
    "\n",
    "# Plotting the feature importance for Top 10 most important columns\n",
    "# The built in attribute SVM.coef_ works only for linear kernel\n",
    "%matplotlib inline\n",
    "#feature_importances = pd.Series(SVM.coef_[0], index=Predictors)\n",
    "#feature_importances.nlargest(10).plot(kind='barh')\n",
    "\n",
    "###########################################################################\n",
    "print('\\n##### Model Validation and Accuracy Calculations ##########')\n",
    "\n",
    "# Printing some sample values of prediction\n",
    "TestingDataResults=pd.DataFrame(data=X_test, columns=Predictors)\n",
    "TestingDataResults[TargetVariable]=y_test\n",
    "TestingDataResults[('Predicted'+TargetVariable)]=np.round(prediction)\n",
    "\n",
    "# Printing sample prediction values\n",
    "print(TestingDataResults.head())\n",
    "\n",
    "# Calculating the error for each row\n",
    "TestingDataResults['APE']=100 * ((abs(\n",
    "  TestingDataResults['close']-TestingDataResults['Predictedclose']))/TestingDataResults['close'])\n",
    "\n",
    "MAPE=np.mean(TestingDataResults['APE'])\n",
    "MedianMAPE=np.median(TestingDataResults['APE'])\n",
    "\n",
    "Accuracy =100 - MAPE\n",
    "MedianAccuracy=100- MedianMAPE\n",
    "print('Mean Accuracy on test data:', Accuracy) # Can be negative sometimes due to outlier\n",
    "print('Median Accuracy on test data:', MedianAccuracy)\n",
    "\n",
    "# Defining a custom function to calculate accuracy\n",
    "# Make sure there are no zeros in the Target variable if you are using MAPE\n",
    "def Accuracy_Score(orig,pred):\n",
    "    MAPE = np.mean(100 * (np.abs(orig-pred)/orig))\n",
    "    #print('#'*70,'Accuracy:', 100-MAPE)\n",
    "    return(100-MAPE)\n",
    "\n",
    "# Custom Scoring MAPE calculation\n",
    "from sklearn.metrics import make_scorer\n",
    "custom_Scoring=make_scorer(Accuracy_Score, greater_is_better=True)\n",
    "\n",
    "# Importing cross validation function from sklearn\n",
    "from sklearn.model_selection import cross_val_score\n",
    "\n",
    "# Running 10-Fold Cross validation on a given algorithm\n",
    "# Passing full data X and y because the K-fold will split the data and automatically choose train/test\n",
    "Accuracy_Values=cross_val_score(RegModel, X , y, cv=10, scoring=custom_Scoring)\n",
    "print('\\nAccuracy values for 10-fold Cross Validation:\\n',Accuracy_Values)\n",
    "print('\\nFinal Average Accuracy of the model:', round(Accuracy_Values.mean(),2))"
   ]
  },
  {
   "cell_type": "markdown",
   "id": "c9ce5b5f-5b4d-4e7f-b57c-3aa9d92b4778",
   "metadata": {
    "tags": []
   },
   "source": [
    "# Model Deployment"
   ]
  },
  {
   "cell_type": "code",
   "execution_count": 95,
   "id": "d634e329-ec0a-45bf-9813-f4aa626e20d6",
   "metadata": {
    "tags": []
   },
   "outputs": [
    {
     "name": "stdout",
     "output_type": "stream",
     "text": [
      "(6639, 3)\n",
      "(6639,)\n"
     ]
    }
   ],
   "source": [
    "# Separate Target Variable and Predictor Variables\n",
    "TargetVariable='close'\n",
    "\n",
    "# Selecting the final set of predictors for the deployment\n",
    "# Based on the variable importance charts of multiple algorithms above\n",
    "Predictors=['open', 'high', 'low']\n",
    "\n",
    "X=DataForML_Numeric[Predictors].values\n",
    "y=DataForML_Numeric[TargetVariable].values\n",
    "\n",
    "### Sandardization of data ###\n",
    "from sklearn.preprocessing import StandardScaler, MinMaxScaler\n",
    "# Choose either standardization or Normalization\n",
    "# On this data Min Max Normalization produced better results\n",
    "\n",
    "# Choose between standardization and MinMAx normalization\n",
    "#PredictorScaler=StandardScaler()\n",
    "PredictorScaler=MinMaxScaler()\n",
    "\n",
    "# Storing the fit object for later reference\n",
    "PredictorScalerFit=PredictorScaler.fit(X)\n",
    "\n",
    "# Generating the standardized values of X\n",
    "X=PredictorScalerFit.transform(X)\n",
    "\n",
    "print(X.shape)\n",
    "print(y.shape)"
   ]
  },
  {
   "cell_type": "markdown",
   "id": "1d4ea5d3-1286-4bfe-801f-abfa4c462a25",
   "metadata": {},
   "source": [
    "# Cross validating the final model accuracy with less predictors"
   ]
  },
  {
   "cell_type": "code",
   "execution_count": 96,
   "id": "476871dd-cda7-4152-b121-7dfe4e8248c4",
   "metadata": {
    "tags": []
   },
   "outputs": [
    {
     "name": "stdout",
     "output_type": "stream",
     "text": [
      "\n",
      "Accuracy values for 10-fold Cross Validation:\n",
      " [98.95198403 99.15691543 99.5142357  99.45834753 99.18057654 99.54186981\n",
      " 99.6078107  99.67039986 99.52543805 99.55595336]\n",
      "\n",
      "Final Average Accuracy of the model: 99.42\n"
     ]
    }
   ],
   "source": [
    "# Importing cross validation function from sklearn\n",
    "from sklearn.model_selection import cross_val_score\n",
    "\n",
    "\n",
    "from sklearn.linear_model import LinearRegression\n",
    "RegModel = LinearRegression()\n",
    "\n",
    "# Running 10-Fold Cross validation on a given algorithm\n",
    "# Passing full data X and y because the K-fold will split the data and automatically choose train/test\n",
    "Accuracy_Values=cross_val_score(RegModel, X , y, cv=10, scoring=custom_Scoring)\n",
    "print('\\nAccuracy values for 10-fold Cross Validation:\\n',Accuracy_Values)\n",
    "print('\\nFinal Average Accuracy of the model:', round(Accuracy_Values.mean(),2))"
   ]
  },
  {
   "cell_type": "code",
   "execution_count": 97,
   "id": "70113349-6512-4d7c-862f-c95e5d92ce1c",
   "metadata": {
    "tags": []
   },
   "outputs": [],
   "source": [
    "Final_LREG=RegModel.fit(X,y)"
   ]
  },
  {
   "cell_type": "markdown",
   "id": "0efe36aa-10d5-4c28-ab03-f28f683eed77",
   "metadata": {},
   "source": [
    "# Saving Model"
   ]
  },
  {
   "cell_type": "code",
   "execution_count": 98,
   "id": "6935e4bc-2759-48ff-ae48-05ce9a0db7c4",
   "metadata": {
    "tags": []
   },
   "outputs": [
    {
     "name": "stdout",
     "output_type": "stream",
     "text": [
      "pickle file of Predictive Model is saved at Location: C:\\Users\\leosa\n"
     ]
    }
   ],
   "source": [
    "import pickle\n",
    "import os\n",
    "\n",
    "# Saving the Python objects as serialized files can be done using pickle library\n",
    "# Here let us save the Final model\n",
    "with open('Final_LREG_Model.pkl', 'wb') as fileWriteStream:\n",
    "    pickle.dump(Final_LREG, fileWriteStream)\n",
    "    fileWriteStream.close()\n",
    "\n",
    "print('pickle file of Predictive Model is saved at Location:',os.getcwd())"
   ]
  },
  {
   "cell_type": "markdown",
   "id": "9f3c2efb-f184-43ab-86bc-0712b23b1d7b",
   "metadata": {},
   "source": [
    "# Create a python function"
   ]
  },
  {
   "cell_type": "code",
   "execution_count": 99,
   "id": "cf0f9136-6bef-4a44-9705-e0ba4b776666",
   "metadata": {
    "tags": []
   },
   "outputs": [],
   "source": [
    "from re import IGNORECASE\n",
    "# This Function can be called from any from any front end tool/website\n",
    "\n",
    "def FunctionPredictResult(InputData):\n",
    "    import pandas as pd\n",
    "    Num_Inputs=InputData.shape[0]\n",
    "\n",
    "    # Making sure the input data has same columns as it was used for training the model\n",
    "    # Also, if standardization/normalization was done, then same must be done for new input\n",
    "\n",
    "    # Appending the new data with the Training data\n",
    "    DataForML=pd.read_pickle('DataForML.pkl')\n",
    "    #InputData=InputData.append(DataForML, ignore_index=True)\n",
    "    InputData = pd.concat([InputData, DataForML], ignore_index=True)\n",
    "\n",
    "    # Generating dummy variables for rest of the nominal variables\n",
    "    InputData=pd.get_dummies(InputData)\n",
    "\n",
    "    # Maintaining the same order of columns as it was during the model training\n",
    "    Predictors=['open', 'high', 'low']\n",
    "\n",
    "    # Generating the input values to the model\n",
    "    X=InputData[Predictors].values[0:Num_Inputs]\n",
    "\n",
    "    # Generating the standardized values of X since it was done while model training also\n",
    "    X=PredictorScalerFit.transform(X)\n",
    "\n",
    "    # Loading the Function from pickle file\n",
    "    import pickle\n",
    "    with open('Final_LREG_Model.pkl', 'rb') as fileReadStream:\n",
    "        PredictionModel=pickle.load(fileReadStream)\n",
    "        # Don't forget to close the filestream!\n",
    "        fileReadStream.close()\n",
    "\n",
    "    # Genrating Predictions\n",
    "    Prediction=PredictionModel.predict(X)\n",
    "    PredictionResult=pd.DataFrame(Prediction, columns=['Prediction'])\n",
    "    return(PredictionResult)"
   ]
  },
  {
   "cell_type": "code",
   "execution_count": 100,
   "id": "5a1f4ab3-6a61-4f0b-95fb-ca0607204c7e",
   "metadata": {
    "tags": []
   },
   "outputs": [
    {
     "name": "stdout",
     "output_type": "stream",
     "text": [
      "    open   high    low\n",
      "0  40.98  60.55  35.30\n",
      "1  33.98  38.20  32.22\n"
     ]
    },
    {
     "data": {
      "text/html": [
       "<div>\n",
       "<style scoped>\n",
       "    .dataframe tbody tr th:only-of-type {\n",
       "        vertical-align: middle;\n",
       "    }\n",
       "\n",
       "    .dataframe tbody tr th {\n",
       "        vertical-align: top;\n",
       "    }\n",
       "\n",
       "    .dataframe thead th {\n",
       "        text-align: right;\n",
       "    }\n",
       "</style>\n",
       "<table border=\"1\" class=\"dataframe\">\n",
       "  <thead>\n",
       "    <tr style=\"text-align: right;\">\n",
       "      <th></th>\n",
       "      <th>Prediction</th>\n",
       "    </tr>\n",
       "  </thead>\n",
       "  <tbody>\n",
       "    <tr>\n",
       "      <th>0</th>\n",
       "      <td>52.343753</td>\n",
       "    </tr>\n",
       "    <tr>\n",
       "      <th>1</th>\n",
       "      <td>36.019803</td>\n",
       "    </tr>\n",
       "  </tbody>\n",
       "</table>\n",
       "</div>"
      ],
      "text/plain": [
       "   Prediction\n",
       "0   52.343753\n",
       "1   36.019803"
      ]
     },
     "execution_count": 100,
     "metadata": {},
     "output_type": "execute_result"
    }
   ],
   "source": [
    "# Calling the function for some new data\n",
    "NewSampleData=pd.DataFrame(data=[[40.98,60.55,35.3],[33.98,38.2,32.22]],columns=['open', 'high', 'low'])\n",
    "\n",
    "print(NewSampleData)\n",
    "\n",
    "# Calling the Function for prediction\n",
    "FunctionPredictResult(InputData=NewSampleData)"
   ]
  },
  {
   "cell_type": "markdown",
   "id": "607bb4b9-7469-4b90-80da-7d00fce89f50",
   "metadata": {},
   "source": [
    "# Deployment"
   ]
  },
  {
   "cell_type": "code",
   "execution_count": 102,
   "id": "843723cf-b999-454d-8ad7-ec1c16c644d2",
   "metadata": {
    "tags": []
   },
   "outputs": [
    {
     "data": {
      "text/plain": [
       "'{\"Prediction\":{\"0\":36.336042408}}'"
      ]
     },
     "execution_count": 102,
     "metadata": {},
     "output_type": "execute_result"
    }
   ],
   "source": [
    "# Creating the function which can take inputs and return prediction\n",
    "def FunctionGeneratePrediction(inp_open , inp_high, inp_low):\n",
    "\n",
    "    # Creating a data frame for the model input\n",
    "    SampleInputData=pd.DataFrame(\n",
    "     data=[[inp_open , inp_high, inp_low]],\n",
    "     columns=['open', 'high', 'low'])\n",
    "\n",
    "    # Calling the function defined above using the input parameters\n",
    "    Predictions=FunctionPredictResult(InputData= SampleInputData)\n",
    "\n",
    "    # Returning the predictions\n",
    "    return(Predictions.to_json())\n",
    "\n",
    "# Function call\n",
    "FunctionGeneratePrediction( inp_open=30.98,\n",
    "                           inp_high=38.5,\n",
    "                           inp_low=30.12\n",
    "                             )"
   ]
  },
  {
   "cell_type": "markdown",
   "id": "d8048eb7-cf65-41f4-903e-413f329d6547",
   "metadata": {
    "tags": []
   },
   "source": [
    "# Web Deployment using Flask Library/Package\n",
    "# Installing the flask library required to create the API"
   ]
  },
  {
   "cell_type": "code",
   "execution_count": 104,
   "id": "8458be90-10ee-487f-a040-d170a390d94e",
   "metadata": {
    "tags": []
   },
   "outputs": [
    {
     "name": "stdout",
     "output_type": "stream",
     "text": [
      "Requirement already satisfied: flask in c:\\users\\leosa\\anaconda3\\lib\\site-packages (2.2.2)\n",
      "Requirement already satisfied: Werkzeug>=2.2.2 in c:\\users\\leosa\\anaconda3\\lib\\site-packages (from flask) (2.2.3)\n",
      "Requirement already satisfied: Jinja2>=3.0 in c:\\users\\leosa\\anaconda3\\lib\\site-packages (from flask) (3.1.2)\n",
      "Requirement already satisfied: itsdangerous>=2.0 in c:\\users\\leosa\\anaconda3\\lib\\site-packages (from flask) (2.0.1)\n",
      "Requirement already satisfied: click>=8.0 in c:\\users\\leosa\\anaconda3\\lib\\site-packages (from flask) (8.0.4)\n",
      "Requirement already satisfied: colorama in c:\\users\\leosa\\anaconda3\\lib\\site-packages (from click>=8.0->flask) (0.4.6)\n",
      "Requirement already satisfied: MarkupSafe>=2.0 in c:\\users\\leosa\\anaconda3\\lib\\site-packages (from Jinja2>=3.0->flask) (2.1.1)\n"
     ]
    }
   ],
   "source": [
    "!pip install flask"
   ]
  },
  {
   "cell_type": "code",
   "execution_count": 105,
   "id": "9012f0a9-6820-4f61-a595-911ce2222af2",
   "metadata": {
    "tags": []
   },
   "outputs": [],
   "source": [
    "from flask import Flask, request, jsonify\n",
    "import pickle\n",
    "import pandas as pd\n",
    "import numpy"
   ]
  },
  {
   "cell_type": "code",
   "execution_count": 106,
   "id": "ab8d00fa-fe18-444c-b9b4-2701efce8f29",
   "metadata": {
    "tags": []
   },
   "outputs": [],
   "source": [
    "app = Flask(__name__)\n",
    "\n",
    "@app.route('/prediction_api', methods=[\"GET\"])\n",
    "def prediction_api():\n",
    "    try:\n",
    "        # Getting the paramters from API call\n",
    "        Open_value = float(request.args.get('open'))\n",
    "        High_value=float(request.args.get('high'))\n",
    "        Low_value=float(request.args.get('low'))\n",
    "\n",
    "        # Calling the funtion to get predictions\n",
    "        prediction_from_api=FunctionGeneratePrediction(\n",
    "                                                       inp_open=Open_value,\n",
    "                                                       inp_high=High_value,\n",
    "                                                       inp_low=Low_value\n",
    "                                                )\n",
    "\n",
    "        return (prediction_from_api)\n",
    "\n",
    "    except Exception as e:\n",
    "        return('Something is not right!:'+str(e))"
   ]
  },
  {
   "cell_type": "code",
   "execution_count": 107,
   "id": "450b7b62-346c-49cd-85d3-211ecd430fc0",
   "metadata": {
    "tags": []
   },
   "outputs": [
    {
     "name": "stdout",
     "output_type": "stream",
     "text": [
      " * Serving Flask app '__main__'\n",
      " * Debug mode: on\n"
     ]
    },
    {
     "name": "stderr",
     "output_type": "stream",
     "text": [
      "WARNING: This is a development server. Do not use it in a production deployment. Use a production WSGI server instead.\n",
      " * Running on http://127.0.0.1:9000\n",
      "Press CTRL+C to quit\n"
     ]
    }
   ],
   "source": [
    "import os\n",
    "if __name__ ==\"__main__\":\n",
    "\n",
    "    # Hosting the API in localhost\n",
    "    app.run(host='127.0.0.1', port=9000, threaded=True, debug=True, use_reloader=False)\n",
    "    # Interrupt kernel to stop the API"
   ]
  },
  {
   "cell_type": "markdown",
   "id": "3445615b-cfc7-47b6-928b-82de9b10119a",
   "metadata": {},
   "source": [
    "# Desktop Deployment"
   ]
  },
  {
   "cell_type": "code",
   "execution_count": null,
   "id": "4975ad2e-2298-4123-b466-9313e94dc6b0",
   "metadata": {
    "tags": []
   },
   "outputs": [],
   "source": [
    "import tkinter as tk\n",
    "from tkinter import messagebox\n",
    "from tkinter import ttk\n",
    "import pandas as pd\n",
    "from sklearn.model_selection import train_test_split\n",
    "from sklearn.linear_model import LinearRegression\n",
    "\n",
    "class StockPredectionApp:\n",
    "    def __init__(self, master):\n",
    "        self.master = master\n",
    "        self.master.title('Starbuck Stok Price Predectoin')\n",
    "        self.data = pd.read_csv(\"SBUX.US_D1.csv\")\n",
    "        self.sliders = []\n",
    "\n",
    "        self.data.drop('datetime', axis=1, inplace=True)\n",
    "        self.X = self.data.drop('close', axis=1).values\n",
    "        self.y = self.data['close'].values\n",
    "\n",
    "        self.X_train, self.X_test, self.y_train, self.y_test = train_test_split(self.X, self.y, test_size=0.2, random_state=42)\n",
    "\n",
    "        self.model = LinearRegression()\n",
    "        self.model.fit(self.X_train, self.y_train)\n",
    "\n",
    "        self.create_widgets()\n",
    "\n",
    "    def create_widgets(self):\n",
    "        for i, column in enumerate(self.data.columns[:-1]):\n",
    "            label = tk.Label(self.master, text=column + ': ')\n",
    "            label.grid(row=i, column=0)\n",
    "            current_val_label = tk.Label(self.master, text='0.0')\n",
    "            current_val_label.grid(row=i, column=2)\n",
    "            slider = ttk.Scale(self.master, from_=self.data[column].min(), to=self.data[column].max(), orient=\"horizontal\",\n",
    "                               command=lambda val, label=current_val_label: label.config(text=f'{float(val):.2f}'))\n",
    "            slider.grid(row=i, column=1)\n",
    "            self.sliders.append((slider, current_val_label))\n",
    "\n",
    "        predict_button = tk.Button(self.master, text='Predict Price', command=self.predict_price)\n",
    "        predict_button.grid(row=len(self.data.columns[:-1]), columnspan=3)\n",
    "\n",
    "    def predict_price(self):\n",
    "        inputs = [float(slider.get()) for slider, _ in self.sliders]\n",
    "        price = self.model.predict([inputs])\n",
    "        messagebox.showinfo('Predicted Price', f'The predicted stok price is ${price[0]:.2f}')\n",
    "\n",
    "if __name__ == '__main__':\n",
    "    root = tk.Tk()\n",
    "    app = StockPredectionApp(root)\n",
    "    root.mainloop()"
   ]
  },
  {
   "cell_type": "code",
   "execution_count": null,
   "id": "63bb8cc0-1a5c-4722-b012-3d0d0691b224",
   "metadata": {},
   "outputs": [],
   "source": []
  }
 ],
 "metadata": {
  "kernelspec": {
   "display_name": "Python 3 (ipykernel)",
   "language": "python",
   "name": "python3"
  },
  "language_info": {
   "codemirror_mode": {
    "name": "ipython",
    "version": 3
   },
   "file_extension": ".py",
   "mimetype": "text/x-python",
   "name": "python",
   "nbconvert_exporter": "python",
   "pygments_lexer": "ipython3",
   "version": "3.11.3"
  }
 },
 "nbformat": 4,
 "nbformat_minor": 5
}
